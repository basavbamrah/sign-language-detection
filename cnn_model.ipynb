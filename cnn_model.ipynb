{
 "cells": [
  {
   "cell_type": "code",
   "execution_count": 1,
   "metadata": {},
   "outputs": [],
   "source": [
    "# Part 1 - Building the CNN\n",
    "# importing the Keras libraries and packages\n",
    "import matplotlib.pyplot as plt\n",
    "from keras.preprocessing.image import ImageDataGenerator\n",
    "from keras.models import Sequential\n",
    "from keras.layers import Convolution2D\n",
    "from keras.layers import MaxPooling2D\n",
    "from keras.layers import Flatten\n",
    "from keras.layers import Dense, Dropout\n",
    "from keras import optimizers\n"
   ]
  },
  {
   "cell_type": "code",
   "execution_count": 2,
   "metadata": {},
   "outputs": [],
   "source": [
    "\n",
    "# Initialing the CNN\n",
    "classifier = Sequential()\n",
    "\n",
    "# Step 1 - Convolutio Layer\n",
    "classifier.add(Convolution2D(\n",
    "    32, (3,  3), input_shape=(64, 64, 3), activation='relu'))\n",
    "\n",
    "# step 2 - Pooling\n",
    "classifier.add(MaxPooling2D(pool_size=(2, 2)))\n",
    "\n",
    "# Adding second convolution layer\n",
    "classifier.add(Convolution2D(32, (3,  3), activation='relu'))\n",
    "classifier.add(MaxPooling2D(pool_size=(2, 2)))\n",
    "\n",
    "# Adding 3rd Concolution Layer\n",
    "classifier.add(Convolution2D(64, (3,  3), activation='relu'))\n",
    "classifier.add(MaxPooling2D(pool_size=(2, 2)))\n"
   ]
  },
  {
   "cell_type": "code",
   "execution_count": 3,
   "metadata": {},
   "outputs": [],
   "source": [
    "\n",
    "# Step 3 - Flattening\n",
    "classifier.add(Flatten())\n"
   ]
  },
  {
   "cell_type": "code",
   "execution_count": 4,
   "metadata": {},
   "outputs": [],
   "source": [
    "# Step 4 - Full Connection\n",
    "classifier.add(Dense(256, activation='relu'))\n",
    "classifier.add(Dropout(0.5))\n",
    "classifier.add(Dense(26, activation='softmax'))\n"
   ]
  },
  {
   "cell_type": "code",
   "execution_count": 19,
   "metadata": {},
   "outputs": [
    {
     "name": "stdout",
     "output_type": "stream",
     "text": [
      "Found 45500 images belonging to 26 classes.\n",
      "Found 6500 images belonging to 26 classes.\n",
      "Epoch 1/25\n",
      "800/800 [==============================] - 83s 103ms/step - loss: 0.0177 - accuracy: 0.9945 - val_loss: 0.0242 - val_accuracy: 0.9940\n",
      "Epoch 2/25\n",
      "800/800 [==============================] - 66s 82ms/step - loss: 0.0200 - accuracy: 0.9944 - val_loss: 0.0261 - val_accuracy: 0.9948\n",
      "Epoch 3/25\n",
      "800/800 [==============================] - 57s 72ms/step - loss: 0.0157 - accuracy: 0.9945 - val_loss: 0.0416 - val_accuracy: 0.9915\n",
      "Epoch 4/25\n",
      "800/800 [==============================] - 57s 71ms/step - loss: 0.0153 - accuracy: 0.9950 - val_loss: 0.0189 - val_accuracy: 0.9949\n",
      "Epoch 5/25\n",
      "800/800 [==============================] - 69s 86ms/step - loss: 0.0147 - accuracy: 0.9950 - val_loss: 0.0259 - val_accuracy: 0.9942\n",
      "Epoch 6/25\n",
      "800/800 [==============================] - 67s 84ms/step - loss: 0.0133 - accuracy: 0.9954 - val_loss: 0.0291 - val_accuracy: 0.9946\n",
      "Epoch 7/25\n",
      "800/800 [==============================] - 63s 79ms/step - loss: 0.0188 - accuracy: 0.9939 - val_loss: 0.0230 - val_accuracy: 0.9952\n",
      "Epoch 8/25\n",
      "800/800 [==============================] - 58s 72ms/step - loss: 0.0169 - accuracy: 0.9953 - val_loss: 0.0242 - val_accuracy: 0.9935\n",
      "Epoch 9/25\n",
      "800/800 [==============================] - 59s 74ms/step - loss: 0.0132 - accuracy: 0.9957 - val_loss: 0.0236 - val_accuracy: 0.9951\n",
      "Epoch 10/25\n",
      "800/800 [==============================] - 67s 83ms/step - loss: 0.0130 - accuracy: 0.9959 - val_loss: 0.0334 - val_accuracy: 0.9925\n",
      "Epoch 11/25\n",
      "800/800 [==============================] - 63s 79ms/step - loss: 0.0150 - accuracy: 0.9954 - val_loss: 0.0336 - val_accuracy: 0.9931\n",
      "Epoch 12/25\n",
      "800/800 [==============================] - 56s 70ms/step - loss: 0.0123 - accuracy: 0.9962 - val_loss: 0.0183 - val_accuracy: 0.9952\n",
      "Epoch 13/25\n",
      "800/800 [==============================] - 69s 86ms/step - loss: 0.0120 - accuracy: 0.9962 - val_loss: 0.0343 - val_accuracy: 0.9934\n",
      "Epoch 14/25\n",
      "800/800 [==============================] - 58s 72ms/step - loss: 0.0144 - accuracy: 0.9950 - val_loss: 0.0431 - val_accuracy: 0.9934\n",
      "Epoch 15/25\n",
      "800/800 [==============================] - 56s 69ms/step - loss: 0.0131 - accuracy: 0.9956 - val_loss: 0.0317 - val_accuracy: 0.9940\n",
      "Epoch 16/25\n",
      "800/800 [==============================] - 57s 71ms/step - loss: 0.0086 - accuracy: 0.9974 - val_loss: 0.0500 - val_accuracy: 0.9925\n",
      "Epoch 17/25\n",
      "800/800 [==============================] - 65s 81ms/step - loss: 0.0152 - accuracy: 0.9956 - val_loss: 0.0205 - val_accuracy: 0.9966\n",
      "Epoch 18/25\n",
      "800/800 [==============================] - 63s 78ms/step - loss: 0.0113 - accuracy: 0.9962 - val_loss: 0.0188 - val_accuracy: 0.9949\n",
      "Epoch 19/25\n",
      "800/800 [==============================] - 65s 81ms/step - loss: 0.0125 - accuracy: 0.9962 - val_loss: 0.0141 - val_accuracy: 0.9968\n",
      "Epoch 20/25\n",
      "800/800 [==============================] - 61s 77ms/step - loss: 0.0097 - accuracy: 0.9970 - val_loss: 0.0919 - val_accuracy: 0.9831\n",
      "Epoch 21/25\n",
      "800/800 [==============================] - 65s 81ms/step - loss: 0.0144 - accuracy: 0.9957 - val_loss: 0.0203 - val_accuracy: 0.9962\n",
      "Epoch 22/25\n",
      "800/800 [==============================] - 61s 76ms/step - loss: 0.0120 - accuracy: 0.9959 - val_loss: 0.0180 - val_accuracy: 0.9960\n",
      "Epoch 23/25\n",
      "800/800 [==============================] - 56s 70ms/step - loss: 0.0123 - accuracy: 0.9961 - val_loss: 0.0814 - val_accuracy: 0.9906\n",
      "Epoch 24/25\n",
      "800/800 [==============================] - 63s 79ms/step - loss: 0.0139 - accuracy: 0.9952 - val_loss: 0.0390 - val_accuracy: 0.9932\n",
      "Epoch 25/25\n",
      "800/800 [==============================] - 61s 76ms/step - loss: 0.0096 - accuracy: 0.9973 - val_loss: 0.0317 - val_accuracy: 0.9942\n"
     ]
    }
   ],
   "source": [
    "# Compiling The CNN\n",
    "classifier.compile(\n",
    "    # optimizer=optimizers.SGD(lr=0.01),\n",
    "    optimizer='adam',\n",
    "    loss='categorical_crossentropy',\n",
    "    metrics=['accuracy'])\n",
    "\n",
    "# Part 2 Fittting the CNN to the image\n",
    "train_datagen = ImageDataGenerator(\n",
    "    rescale=1./255,\n",
    "    shear_range=0.2,\n",
    "    zoom_range=0.2,\n",
    "    horizontal_flip=True)\n",
    "\n",
    "test_datagen = ImageDataGenerator(rescale=1./255)\n",
    "\n",
    "training_set = train_datagen.flow_from_directory(\n",
    "    'mydata/training_set',\n",
    "    target_size=(64, 64),\n",
    "    batch_size=32,\n",
    "    class_mode='categorical')\n",
    "\n",
    "test_set = test_datagen.flow_from_directory(\n",
    "    'mydata/test_set',\n",
    "    target_size=(64, 64),\n",
    "    batch_size=32,\n",
    "    class_mode='categorical')\n",
    "\n",
    "model = classifier.fit(\n",
    "    training_set,\n",
    "    steps_per_epoch=800,\n",
    "    epochs=25,\n",
    "    validation_data=test_set,\n",
    "    # validation_steps=6500\n",
    ")\n"
   ]
  },
  {
   "cell_type": "code",
   "execution_count": 7,
   "metadata": {},
   "outputs": [
    {
     "data": {
      "text/plain": [
       "\"#Saving the model\\nimport h5py\\nclassifier.save('Trained_model.h5')\""
      ]
     },
     "execution_count": 7,
     "metadata": {},
     "output_type": "execute_result"
    }
   ],
   "source": [
    "\n",
    "'''#Saving the model\n",
    "import h5py\n",
    "classifier.save('Trained_model.h5')'''\n"
   ]
  },
  {
   "cell_type": "code",
   "execution_count": 20,
   "metadata": {},
   "outputs": [
    {
     "data": {
      "text/plain": [
       "{'loss': [0.017716316506266594,\n",
       "  0.019996101036667824,\n",
       "  0.01574651710689068,\n",
       "  0.01534885074943304,\n",
       "  0.014699886552989483,\n",
       "  0.01330216508358717,\n",
       "  0.018753206357359886,\n",
       "  0.016859717667102814,\n",
       "  0.013165878131985664,\n",
       "  0.01301900576800108,\n",
       "  0.015039065852761269,\n",
       "  0.012259448878467083,\n",
       "  0.011969485320150852,\n",
       "  0.014388778246939182,\n",
       "  0.013078629970550537,\n",
       "  0.008596356958150864,\n",
       "  0.015190557576715946,\n",
       "  0.011313953436911106,\n",
       "  0.01247574295848608,\n",
       "  0.009670663625001907,\n",
       "  0.014400595799088478,\n",
       "  0.011994391679763794,\n",
       "  0.012332177720963955,\n",
       "  0.013873868621885777,\n",
       "  0.009602298028767109],\n",
       " 'accuracy': [0.9945303797721863,\n",
       "  0.9943740963935852,\n",
       "  0.9945312738418579,\n",
       "  0.9950390458106995,\n",
       "  0.9950382709503174,\n",
       "  0.9954296946525574,\n",
       "  0.9939443469047546,\n",
       "  0.995272696018219,\n",
       "  0.9957031011581421,\n",
       "  0.9958587288856506,\n",
       "  0.9953508377075195,\n",
       "  0.9962499737739563,\n",
       "  0.9961712956428528,\n",
       "  0.9950390458106995,\n",
       "  0.9955859184265137,\n",
       "  0.9974214434623718,\n",
       "  0.995624303817749,\n",
       "  0.9962494373321533,\n",
       "  0.9961718916893005,\n",
       "  0.9970307946205139,\n",
       "  0.9956634044647217,\n",
       "  0.9958977699279785,\n",
       "  0.9961321949958801,\n",
       "  0.9951555132865906,\n",
       "  0.9972652196884155],\n",
       " 'val_loss': [0.024237457662820816,\n",
       "  0.02612837590277195,\n",
       "  0.04156091436743736,\n",
       "  0.018856516107916832,\n",
       "  0.025872662663459778,\n",
       "  0.02905448153614998,\n",
       "  0.023004265502095222,\n",
       "  0.02422160655260086,\n",
       "  0.023590337485074997,\n",
       "  0.03343828395009041,\n",
       "  0.03361298516392708,\n",
       "  0.018339069560170174,\n",
       "  0.034258630126714706,\n",
       "  0.04308826103806496,\n",
       "  0.031742993742227554,\n",
       "  0.05003708600997925,\n",
       "  0.020458417013287544,\n",
       "  0.018775830045342445,\n",
       "  0.014118569903075695,\n",
       "  0.09189192950725555,\n",
       "  0.020293880254030228,\n",
       "  0.01803131215274334,\n",
       "  0.08138042688369751,\n",
       "  0.038969844579696655,\n",
       "  0.03167358413338661],\n",
       " 'val_accuracy': [0.9940000176429749,\n",
       "  0.9947692155838013,\n",
       "  0.9915384650230408,\n",
       "  0.9949230551719666,\n",
       "  0.9941538572311401,\n",
       "  0.994615375995636,\n",
       "  0.9952307939529419,\n",
       "  0.9935384392738342,\n",
       "  0.9950768947601318,\n",
       "  0.9924615621566772,\n",
       "  0.9930769205093384,\n",
       "  0.9952307939529419,\n",
       "  0.993384599685669,\n",
       "  0.993384599685669,\n",
       "  0.9940000176429749,\n",
       "  0.9924615621566772,\n",
       "  0.9966154098510742,\n",
       "  0.9949230551719666,\n",
       "  0.9967692494392395,\n",
       "  0.9830769300460815,\n",
       "  0.9961538314819336,\n",
       "  0.9959999918937683,\n",
       "  0.9906153678894043,\n",
       "  0.9932307600975037,\n",
       "  0.9941538572311401]}"
      ]
     },
     "execution_count": 20,
     "metadata": {},
     "output_type": "execute_result"
    }
   ],
   "source": [
    "model.history"
   ]
  },
  {
   "cell_type": "code",
   "execution_count": 21,
   "metadata": {},
   "outputs": [
    {
     "name": "stdout",
     "output_type": "stream",
     "text": [
      "204/204 [==============================] - 9s 41ms/step - loss: 0.0317 - accuracy: 0.9942\n"
     ]
    }
   ],
   "source": [
    "result  = classifier.evaluate(test_set)"
   ]
  },
  {
   "cell_type": "code",
   "execution_count": 22,
   "metadata": {},
   "outputs": [
    {
     "data": {
      "image/png": "[encoded data removed]",
      "text/plain": [
       "<Figure size 432x288 with 1 Axes>"
      ]
     },
     "metadata": {
      "needs_background": "light"
     },
     "output_type": "display_data"
    }
   ],
   "source": [
    "plt.plot(model.history['accuracy'])\n",
    "plt.plot(model.history['val_accuracy'])\n",
    "plt.title('model accuracy')\n",
    "plt.ylabel('accuracy')\n",
    "plt.xlabel('epoch')\n",
    "plt.legend(['train', 'test'], loc='upper left')\n",
    "plt.show()\n"
   ]
  },
  {
   "cell_type": "code",
   "execution_count": 23,
   "metadata": {},
   "outputs": [
    {
     "data": {
      "image/png": "[encoded data removed]",
      "text/plain": [
       "<Figure size 432x288 with 1 Axes>"
      ]
     },
     "metadata": {
      "needs_background": "light"
     },
     "output_type": "display_data"
    }
   ],
   "source": [
    "\n",
    "plt.plot(model.history['loss'])\n",
    "plt.plot(model.history['val_loss'])\n",
    "plt.title('model loss')\n",
    "plt.ylabel('loss')\n",
    "plt.xlabel('epoch')\n",
    "plt.legend(['train', 'test'], loc='upper left')\n",
    "plt.show()\n"
   ]
  }
 ],
 "metadata": {
  "kernelspec": {
   "display_name": "Python 3.10.4 64-bit",
   "language": "python",
   "name": "python3"
  },
  "language_info": {
   "codemirror_mode": {
    "name": "ipython",
    "version": 3
   },
   "file_extension": ".py",
   "mimetype": "text/x-python",
   "name": "python",
   "nbconvert_exporter": "python",
   "pygments_lexer": "ipython3",
   "version": "3.10.4"
  },
  "orig_nbformat": 4,
  "vscode": {
   "interpreter": {
    "hash": "b77121a97d7e959397dd5c0fafd1941ddbac8e090c0e6abc91597e97af2d007c"
   }
  }
 },
 "nbformat": 4,
 "nbformat_minor": 2
}
